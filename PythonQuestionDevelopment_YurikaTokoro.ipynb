{
 "cells": [
  {
   "cell_type": "markdown",
   "metadata": {},
   "source": [
    "# Python Question Development"
   ]
  },
  {
   "cell_type": "markdown",
   "metadata": {},
   "source": [
    "## Conditional Statement"
   ]
  },
  {
   "cell_type": "code",
   "execution_count": null,
   "metadata": {
    "code_folding": []
   },
   "outputs": [],
   "source": [
    "# Which conditional statement will run given the following user input: 148\n",
    "\n",
    "\n",
    "print(\n",
    "\"\"\"\n",
    "What is your height (cm)?\n",
    "\"\"\"\n",
    ")\n",
    "\n",
    "height = input(prompt = \">\")\n",
    "\n",
    "if height >= 160 and height <= 170:\n",
    "    print(\"average\")\n",
    "    \n",
    "elif height > 170:\n",
    "    print(\"model\")\n",
    "    \n",
    "elif height < 160:\n",
    "    print(\"petite\")\n",
    "\n",
    "\n",
    "print(\n",
    "\"\"\"\n",
    "(1) if\n",
    "(2) 1st elif\n",
    "(3) 2nd elif\n",
    "(4) None of the answers above\n",
    "\"\"\"\n",
    ")\n",
    "\n",
    "# It gives an error therefore the answer is (4)\n",
    "    "
   ]
  },
  {
   "cell_type": "code",
   "execution_count": null,
   "metadata": {},
   "outputs": [],
   "source": [
    "# Which conditional statement will run given the following user input: YES\n",
    "\n",
    "\n",
    "print(\n",
    "\"\"\"\n",
    "Do you like cold weather?\n",
    "\"\"\")\n",
    "\n",
    "answer = input(\"<Yes or No>\\n\")\n",
    "\n",
    "\n",
    "if answer == \"Yes\" or answer == \"yes\" or answer == \"YES\":\n",
    "    print(\"You should choose Hult Boston campus!\")\n",
    "    \n",
    "elif answer == \"No\" or answer == \"no\" or answer == \"NO\":\n",
    "    print(\"You should choose San Francisco campus!\")\n",
    "\n",
    "else:\n",
    "    print(\"Oops something went wrong.\")\n",
    "    \n",
    "    \n",
    "print(\n",
    "\"\"\"\n",
    "(1) if\n",
    "(2) elif\n",
    "(3) else\n",
    "(4) None of the answers above\n",
    "\"\"\")\n",
    "\n",
    "\n",
    "# It runs if statment therefore the answer is (1)"
   ]
  },
  {
   "cell_type": "markdown",
   "metadata": {},
   "source": [
    "## Loops (for or while)"
   ]
  },
  {
   "cell_type": "code",
   "execution_count": null,
   "metadata": {},
   "outputs": [],
   "source": [
    "# Q. What is the output of this code?\n",
    "\n",
    "for x in \"Professor Chase\":\n",
    "    print(x)\n",
    "    \n",
    "    \n",
    "print(\"\"\"\n",
    "(1) Professor Chase\n",
    "(2) PROFESSOR CHASE\n",
    "(3)\n",
    "P\n",
    "r\n",
    "o\n",
    "f\n",
    "e\n",
    "s\n",
    "s\n",
    "o\n",
    "r\n",
    " \n",
    "C\n",
    "h\n",
    "a\n",
    "s\n",
    "e\n",
    "\n",
    "4. None of the answers above\n",
    "\n",
    "\"\"\")\n",
    "\n",
    "# the answer is (3)"
   ]
  },
  {
   "cell_type": "code",
   "execution_count": null,
   "metadata": {},
   "outputs": [],
   "source": [
    "# Q. What is the second output of this code below?\n",
    "\n",
    "adj = [\"small\", \"big\", \"sweet\"]\n",
    "snacks = [\"cookie\", \"chocolate\", \"grape\"]\n",
    "\n",
    "for x in adj:\n",
    "  for y in snacks:\n",
    "    print(x, y)\n",
    "   \n",
    "\n",
    "print(\"\"\"\n",
    "(1) small chocolate\n",
    "(2) big cookie \n",
    "(3) big chocolate \n",
    "(4) None of the answers above\n",
    "\"\"\")    \n",
    "\n",
    "# The answer is (1)"
   ]
  },
  {
   "cell_type": "markdown",
   "metadata": {},
   "source": [
    "## User Defined Functions "
   ]
  },
  {
   "cell_type": "code",
   "execution_count": null,
   "metadata": {},
   "outputs": [],
   "source": [
    "# What is the output of this code?\n",
    "\n",
    "def hult_us():\n",
    "print(\"Boston\")\n",
    "print(\"San Francisco\")\n",
    "\n",
    "hult_us()\n",
    "\n",
    "print(\"\"\"\n",
    "(1) Boston\n",
    "(2) San Francisco\n",
    "(3) Boston\n",
    "    San Francisco \n",
    "(4) None of the answers above \n",
    "\"\"\")\n",
    "\n",
    "# This gives an error therefore the answer is (4)"
   ]
  },
  {
   "cell_type": "code",
   "execution_count": null,
   "metadata": {},
   "outputs": [],
   "source": [
    "# What is the output of this code?\n",
    "\n",
    "def spanish(x):\n",
    "    return x*2\n",
    "\n",
    "spanish('Hola')\n",
    "\n",
    "# 'HolaHola' "
   ]
  },
  {
   "cell_type": "markdown",
   "metadata": {},
   "source": [
    "## Lists and/or List Operations"
   ]
  },
  {
   "cell_type": "code",
   "execution_count": null,
   "metadata": {},
   "outputs": [],
   "source": [
    "# Complete the code to return the following output:\n",
    "\n",
    "# Desired Output: lang = [\"English\", \"Spanish\", \"Chinese\", \"Japanese\"]\n",
    "\n",
    "\n",
    "lang = [\"English\", \"Spanish\", \"Japanese\"]\n",
    "\n",
    "lang.____(____, _____)\n",
    "\n",
    "#lang.insert(2, \"Chinese\")\n",
    "\n",
    "print(lang)"
   ]
  },
  {
   "cell_type": "code",
   "execution_count": null,
   "metadata": {},
   "outputs": [],
   "source": [
    "# Q. Complete the code to return the following output:\n",
    "\n",
    "# Desired Output: fam = [\"Dad\", 180, \"Mom\", 160, \"Sister\", 165, \"Me\", 148]\n",
    "\n",
    "fam = ['Dad', 180, 'Mom', 160, 'Sister', 165, 'Me', 158]\n",
    "\n",
    "fam[____] = ____\n",
    "# fam[7] = 148\n",
    "\n",
    "print(fam)"
   ]
  },
  {
   "cell_type": "markdown",
   "metadata": {},
   "source": [
    "## Dictionaries and/or Dictionary Operations "
   ]
  },
  {
   "cell_type": "code",
   "execution_count": null,
   "metadata": {},
   "outputs": [],
   "source": [
    "# Get a list of all the values \n",
    "\n",
    "alcohol = {\"Beer\":\"Heineken\", \"Wiskey\":\"Jack Daniel's\", \"Liquor\":\"Baijuu\"}\n",
    "\n",
    "alcohol._____()\n",
    "#alcohol.values()"
   ]
  },
  {
   "cell_type": "code",
   "execution_count": null,
   "metadata": {},
   "outputs": [],
   "source": [
    "# Complete the code to return the following output:\n",
    "# Desired output : alcohol = {\"Beer\":\"Heineken\", \"Wiskey\":\"Jack Daniel's\", \"Liquor\":\"Baijuu\", \"Rum\":\"Bacardi\"}\n",
    "\n",
    "alcohol = {\"Beer\":\"Heineken\", \"Wiskey\":\"Jack Daniel's\", \"Liquor\":\"Baijuu\"}\n",
    "\n",
    "alcohol[_____] = ______\n",
    "#alcohol[\"Rum\"] = \"Bacardi\""
   ]
  }
 ],
 "metadata": {
  "kernelspec": {
   "display_name": "Python 3",
   "language": "python",
   "name": "python3"
  },
  "language_info": {
   "codemirror_mode": {
    "name": "ipython",
    "version": 3
   },
   "file_extension": ".py",
   "mimetype": "text/x-python",
   "name": "python",
   "nbconvert_exporter": "python",
   "pygments_lexer": "ipython3",
   "version": "3.7.4"
  },
  "toc": {
   "base_numbering": 1,
   "nav_menu": {},
   "number_sections": false,
   "sideBar": true,
   "skip_h1_title": false,
   "title_cell": "Table of Contents",
   "title_sidebar": "Contents",
   "toc_cell": false,
   "toc_position": {},
   "toc_section_display": true,
   "toc_window_display": false
  },
  "varInspector": {
   "cols": {
    "lenName": 16,
    "lenType": 16,
    "lenVar": 40
   },
   "kernels_config": {
    "python": {
     "delete_cmd_postfix": "",
     "delete_cmd_prefix": "del ",
     "library": "var_list.py",
     "varRefreshCmd": "print(var_dic_list())"
    },
    "r": {
     "delete_cmd_postfix": ") ",
     "delete_cmd_prefix": "rm(",
     "library": "var_list.r",
     "varRefreshCmd": "cat(var_dic_list()) "
    }
   },
   "types_to_exclude": [
    "module",
    "function",
    "builtin_function_or_method",
    "instance",
    "_Feature"
   ],
   "window_display": false
  }
 },
 "nbformat": 4,
 "nbformat_minor": 2
}
